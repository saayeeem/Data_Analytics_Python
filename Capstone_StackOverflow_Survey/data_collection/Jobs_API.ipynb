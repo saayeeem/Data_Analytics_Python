{
 "cells": [
  {
   "cell_type": "markdown",
   "id": "a66c1692-9c84-41ec-a135-b417ef41344d",
   "metadata": {},
   "source": [
    "<p style=\"text-align:center\">\n",
    "    <a href=\"https://skills.network/?utm_medium=Exinfluencer&utm_source=Exinfluencer&utm_content=000026UJ&utm_term=10006555&utm_id=NA-SkillsNetwork-Channel-SkillsNetworkCoursesIBMDA0321ENSkillsNetwork21426264-2022-01-01\" target=\"_blank\">\n",
    "    <img src=\"https://cf-courses-data.s3.us.cloud-object-storage.appdomain.cloud/assets/logos/SN_web_lightmode.png\" width=\"200\" alt=\"Skills Network Logo\"  />\n",
    "    </a>\n",
    "</p>\n"
   ]
  },
  {
   "cell_type": "markdown",
   "id": "6e786144-f1e4-45ee-b287-f2f4b87300d3",
   "metadata": {},
   "source": [
    "# **JOBS API Implementation Using FLASK**\n"
   ]
  },
  {
   "cell_type": "markdown",
   "id": "aae78227-6f87-4090-80ab-49edba9c3003",
   "metadata": {},
   "source": [
    "Estimated time needed: **45 to 60** minutes\n"
   ]
  },
  {
   "cell_type": "markdown",
   "id": "817156a7-4bab-46b8-9a67-55f3b0564c01",
   "metadata": {},
   "source": [
    "## Objectives\n",
    "\n",
    "You will be executing this code  so that the client application **Collecting Jobs API**  will be accessing this code executing on the server\n"
   ]
  },
  {
   "cell_type": "code",
   "execution_count": 1,
   "id": "4ac527ce-f921-44e2-b729-28ed03634a8e",
   "metadata": {},
   "outputs": [
    {
     "name": "stdout",
     "output_type": "stream",
     "text": [
      "Requirement already satisfied: flask in e:\\anaconda\\envs\\cvpr\\lib\\site-packages (2.1.2)"
     ]
    },
    {
     "name": "stderr",
     "output_type": "stream",
     "text": [
      "WARNING: Ignoring invalid distribution -umpy (e:\\anaconda\\envs\\cvpr\\lib\\site-packages)\n",
      "WARNING: Ignoring invalid distribution -umpy (e:\\anaconda\\envs\\cvpr\\lib\\site-packages)\n",
      "WARNING: Ignoring invalid distribution -umpy (e:\\anaconda\\envs\\cvpr\\lib\\site-packages)\n",
      "WARNING: Ignoring invalid distribution -umpy (e:\\anaconda\\envs\\cvpr\\lib\\site-packages)\n"
     ]
    },
    {
     "name": "stdout",
     "output_type": "stream",
     "text": [
      "\n",
      "Requirement already satisfied: Werkzeug>=2.0 in e:\\anaconda\\envs\\cvpr\\lib\\site-packages (from flask) (2.1.1)\n",
      "Requirement already satisfied: Jinja2>=3.0 in e:\\anaconda\\envs\\cvpr\\lib\\site-packages (from flask) (3.1.1)\n",
      "Requirement already satisfied: click>=8.0 in e:\\anaconda\\envs\\cvpr\\lib\\site-packages (from flask) (8.1.2)\n",
      "Requirement already satisfied: importlib-metadata>=3.6.0 in e:\\anaconda\\envs\\cvpr\\lib\\site-packages (from flask) (4.11.3)\n",
      "Requirement already satisfied: itsdangerous>=2.0 in e:\\anaconda\\envs\\cvpr\\lib\\site-packages (from flask) (2.1.2)\n",
      "Requirement already satisfied: colorama in e:\\anaconda\\envs\\cvpr\\lib\\site-packages (from click>=8.0->flask) (0.4.4)\n",
      "Requirement already satisfied: zipp>=0.5 in e:\\anaconda\\envs\\cvpr\\lib\\site-packages (from importlib-metadata>=3.6.0->flask) (3.8.0)\n",
      "Requirement already satisfied: MarkupSafe>=2.0 in e:\\anaconda\\envs\\cvpr\\lib\\site-packages (from Jinja2>=3.0->flask) (2.1.1)\n"
     ]
    }
   ],
   "source": [
    "!pip install flask"
   ]
  },
  {
   "cell_type": "markdown",
   "id": "0e5bba17-58e7-49a4-8040-0831e93466f5",
   "metadata": {},
   "source": [
    "## Dataset Used in this Assignment\n",
    "\n",
    "The dataset used in this lab comes from the following source: [https://www.kaggle.com/promptcloud/jobs-on-naukricom](https://www.kaggle.com/promptcloud/jobs-on-naukricom?utm_medium=Exinfluencer&utm_source=Exinfluencer&utm_content=000026UJ&utm_term=10006555&utm_id=NA-SkillsNetwork-Channel-SkillsNetworkCoursesIBMDA0321ENSkillsNetwork21426264-2022-01-01) under the under a **Public Domain license**.\n",
    "\n",
    "> Note: We are using a modified subset of that dataset for the lab, so to follow the lab instructions successfully please use the dataset provided with the lab, rather than the dataset from the original source.\n",
    "\n",
    "The original dataset is a csv. We have converted the csv to json as per the requirement of the lab.\n"
   ]
  },
  {
   "cell_type": "code",
   "execution_count": 2,
   "id": "c2eed468-b4cd-481a-a18e-1851e2fc7a4a",
   "metadata": {},
   "outputs": [],
   "source": [
    "# !wget --no-check-certificate https://cf-courses-data.s3.us.cloud-object-storage.appdomain.cloud/IBM-DA0321EN-SkillsNetwork/labs/module%201/Accessing%20Data%20Using%20APIs/jobs.json"
   ]
  },
  {
   "cell_type": "code",
   "execution_count": null,
   "id": "21697c9d",
   "metadata": {},
   "outputs": [
    {
     "name": "stdout",
     "output_type": "stream",
     "text": [
      " * Serving Flask app '__main__' (lazy loading)\n",
      " * Environment: production\n",
      "\u001b[31m   WARNING: This is a development server. Do not use it in a production deployment.\u001b[0m\n",
      "\u001b[2m   Use a production WSGI server instead.\u001b[0m\n",
      " * Debug mode: off\n"
     ]
    },
    {
     "name": "stderr",
     "output_type": "stream",
     "text": [
      " * Running on http://127.0.0.1:5000/ (Press CTRL+C to quit)\n",
      "127.0.0.1 - - [01/Jul/2022 01:49:16] \"GET /data?Key+Skills=Python HTTP/1.1\" 200 -\n",
      "127.0.0.1 - - [01/Jul/2022 01:49:16] \"GET /data?Location=Washington+DC HTTP/1.1\" 200 -\n",
      "127.0.0.1 - - [01/Jul/2022 01:49:20] \"GET /data?Location=Los+Angeles HTTP/1.1\" 200 -\n",
      "127.0.0.1 - - [01/Jul/2022 01:49:20] \"GET /data?Location=New+York HTTP/1.1\" 200 -\n",
      "127.0.0.1 - - [01/Jul/2022 01:49:20] \"GET /data?Location=San+Francisco HTTP/1.1\" 200 -\n",
      "127.0.0.1 - - [01/Jul/2022 01:49:20] \"GET /data?Location=Washington+DC HTTP/1.1\" 200 -\n",
      "127.0.0.1 - - [01/Jul/2022 01:49:20] \"GET /data?Location=Seattle HTTP/1.1\" 200 -\n",
      "127.0.0.1 - - [01/Jul/2022 01:49:21] \"GET /data?Location=Austin HTTP/1.1\" 200 -\n",
      "127.0.0.1 - - [01/Jul/2022 01:49:21] \"GET /data?Location=Detroit HTTP/1.1\" 200 -\n",
      "127.0.0.1 - - [01/Jul/2022 01:49:22] \"GET /data?Key+Skills=C HTTP/1.1\" 200 -\n",
      "127.0.0.1 - - [01/Jul/2022 01:49:23] \"GET /data?Key+Skills=C%23 HTTP/1.1\" 200 -\n",
      "127.0.0.1 - - [01/Jul/2022 01:49:23] \"GET /data?Key+Skills=C%2B%2B HTTP/1.1\" 200 -\n",
      "127.0.0.1 - - [01/Jul/2022 01:49:23] \"GET /data?Key+Skills=Java HTTP/1.1\" 200 -\n",
      "127.0.0.1 - - [01/Jul/2022 01:49:23] \"GET /data?Key+Skills=JavaScript HTTP/1.1\" 200 -\n",
      "127.0.0.1 - - [01/Jul/2022 01:49:24] \"GET /data?Key+Skills=Python HTTP/1.1\" 200 -\n",
      "127.0.0.1 - - [01/Jul/2022 01:49:24] \"GET /data?Key+Skills=Scala HTTP/1.1\" 200 -\n",
      "127.0.0.1 - - [01/Jul/2022 01:49:24] \"GET /data?Key+Skills=Oracle HTTP/1.1\" 200 -\n",
      "127.0.0.1 - - [01/Jul/2022 01:49:24] \"GET /data?Key+Skills=SQL+Server HTTP/1.1\" 200 -\n",
      "127.0.0.1 - - [01/Jul/2022 01:49:24] \"GET /data?Key+Skills=MySQL+Server HTTP/1.1\" 200 -\n",
      "127.0.0.1 - - [01/Jul/2022 01:49:24] \"GET /data?Key+Skills=PostgreSQL HTTP/1.1\" 200 -\n",
      "127.0.0.1 - - [01/Jul/2022 01:49:24] \"GET /data?Key+Skills=MongoDB HTTP/1.1\" 200 -\n",
      "127.0.0.1 - - [01/Jul/2022 01:51:02] \"GET /data?Key+Skills=C HTTP/1.1\" 200 -\n",
      "127.0.0.1 - - [01/Jul/2022 01:51:02] \"GET /data?Key+Skills=C%23 HTTP/1.1\" 200 -\n",
      "127.0.0.1 - - [01/Jul/2022 01:51:02] \"GET /data?Key+Skills=C%2B%2B HTTP/1.1\" 200 -\n",
      "127.0.0.1 - - [01/Jul/2022 01:51:03] \"GET /data?Key+Skills=Java HTTP/1.1\" 200 -\n",
      "127.0.0.1 - - [01/Jul/2022 01:51:03] \"GET /data?Key+Skills=JavaScript HTTP/1.1\" 200 -\n",
      "127.0.0.1 - - [01/Jul/2022 01:51:03] \"GET /data?Key+Skills=Python HTTP/1.1\" 200 -\n",
      "127.0.0.1 - - [01/Jul/2022 01:51:03] \"GET /data?Key+Skills=Scala HTTP/1.1\" 200 -\n",
      "127.0.0.1 - - [01/Jul/2022 01:51:03] \"GET /data?Key+Skills=Oracle HTTP/1.1\" 200 -\n",
      "127.0.0.1 - - [01/Jul/2022 01:51:03] \"GET /data?Key+Skills=SQL+Server HTTP/1.1\" 200 -\n",
      "127.0.0.1 - - [01/Jul/2022 01:51:03] \"GET /data?Key+Skills=MySQL+Server HTTP/1.1\" 200 -\n",
      "127.0.0.1 - - [01/Jul/2022 01:51:03] \"GET /data?Key+Skills=PostgreSQL HTTP/1.1\" 200 -\n",
      "127.0.0.1 - - [01/Jul/2022 01:51:03] \"GET /data?Key+Skills=MongoDB HTTP/1.1\" 200 -\n",
      "127.0.0.1 - - [01/Jul/2022 01:55:38] \"GET /data?Key+Skills=Python HTTP/1.1\" 200 -\n",
      "127.0.0.1 - - [01/Jul/2022 01:55:38] \"GET /data?Location=Washington+DC HTTP/1.1\" 200 -\n",
      "127.0.0.1 - - [01/Jul/2022 01:55:38] \"GET /data?Location=Los+Angeles HTTP/1.1\" 200 -\n",
      "127.0.0.1 - - [01/Jul/2022 01:55:39] \"GET /data?Location=New+York HTTP/1.1\" 200 -\n",
      "127.0.0.1 - - [01/Jul/2022 01:55:39] \"GET /data?Location=San+Francisco HTTP/1.1\" 200 -\n",
      "127.0.0.1 - - [01/Jul/2022 01:55:39] \"GET /data?Location=Washington+DC HTTP/1.1\" 200 -\n",
      "127.0.0.1 - - [01/Jul/2022 01:55:39] \"GET /data?Location=Seattle HTTP/1.1\" 200 -\n",
      "127.0.0.1 - - [01/Jul/2022 01:55:39] \"GET /data?Location=Austin HTTP/1.1\" 200 -\n",
      "127.0.0.1 - - [01/Jul/2022 01:55:39] \"GET /data?Location=Detroit HTTP/1.1\" 200 -\n",
      "127.0.0.1 - - [01/Jul/2022 01:55:40] \"GET /data?Key+Skills=C HTTP/1.1\" 200 -\n",
      "127.0.0.1 - - [01/Jul/2022 01:55:40] \"GET /data?Key+Skills=C%23 HTTP/1.1\" 200 -\n",
      "127.0.0.1 - - [01/Jul/2022 01:55:40] \"GET /data?Key+Skills=C%2B%2B HTTP/1.1\" 200 -\n",
      "127.0.0.1 - - [01/Jul/2022 01:55:40] \"GET /data?Key+Skills=Java HTTP/1.1\" 200 -\n",
      "127.0.0.1 - - [01/Jul/2022 01:55:41] \"GET /data?Key+Skills=JavaScript HTTP/1.1\" 200 -\n",
      "127.0.0.1 - - [01/Jul/2022 01:55:41] \"GET /data?Key+Skills=Python HTTP/1.1\" 200 -\n",
      "127.0.0.1 - - [01/Jul/2022 01:55:41] \"GET /data?Key+Skills=Scala HTTP/1.1\" 200 -\n",
      "127.0.0.1 - - [01/Jul/2022 01:55:41] \"GET /data?Key+Skills=Oracle HTTP/1.1\" 200 -\n",
      "127.0.0.1 - - [01/Jul/2022 01:55:41] \"GET /data?Key+Skills=SQL+Server HTTP/1.1\" 200 -\n",
      "127.0.0.1 - - [01/Jul/2022 01:55:41] \"GET /data?Key+Skills=MySQL+Server HTTP/1.1\" 200 -\n",
      "127.0.0.1 - - [01/Jul/2022 01:55:41] \"GET /data?Key+Skills=PostgreSQL HTTP/1.1\" 200 -\n",
      "127.0.0.1 - - [01/Jul/2022 01:55:41] \"GET /data?Key+Skills=MongoDB HTTP/1.1\" 200 -\n"
     ]
    }
   ],
   "source": [
    "import flask\n",
    "from flask import request, jsonify\n",
    "import requests\n",
    "import re\n",
    "\n",
    "def get_data(key,value,current):\n",
    "    results = list()\n",
    "    for rec in current:\n",
    "        \n",
    "        if rec[key].find(value) != -1:\n",
    "            results.append(rec)\n",
    "    return results\n",
    "\n",
    "app = flask.Flask(__name__)\n",
    "\n",
    "import json\n",
    "data = None\n",
    "with open('jobs.json',encoding='utf-8') as f:\n",
    "    # returns JSON object as\n",
    "    # a dictionary\n",
    "    data = json.load(f)\n",
    "    \n",
    "    \n",
    "\n",
    "@app.route('/', methods=['GET'])\n",
    "def home():\n",
    "    \n",
    "    return '''<h1>Welcome to flask JOB search API</p>'''\n",
    "\n",
    "\n",
    "@app.route('/data/all', methods=['GET'])\n",
    "def api_all():\n",
    "    return jsonify(data)\n",
    "\n",
    "\n",
    "@app.route('/data', methods=['GET'])\n",
    "def api_id():\n",
    "    # Check if keys such as Job Title,KeySkills, Role Category and others  are provided as part of the URL.\n",
    "    #  Assign the keys to the corresponding variables..\n",
    "    # If no key is provided, display an error in the browser.\n",
    "    res = None\n",
    "    for req in request.args:\n",
    "        \n",
    "        if req == 'Job Title':\n",
    "            key = 'Job Title'\n",
    "        elif req == 'Job Experience Required' :\n",
    "            key='Job Experience Required'\n",
    "        elif req == 'Key Skills' :\n",
    "            key='Key Skills'\n",
    "            \n",
    "        elif req == 'Role Category' :\n",
    "            key='Role Category'\n",
    "        elif req == 'Location' :\n",
    "            key='Location'\n",
    "        \n",
    "        elif req == 'Functional Area' :\n",
    "            key='Functional Area'\n",
    "        \n",
    "        elif req == 'Industry' :\n",
    "            key='Industry'\n",
    "        elif req == 'Role' :\n",
    "            key='Role'\n",
    "        elif req==\"id\":\n",
    "             key=\"id\"\n",
    "        else:\n",
    "            pass\n",
    "    \n",
    "        value = request.args[key]\n",
    "        if (res==None):\n",
    "            res = get_data(key,value,data)\n",
    "        else:\n",
    "            res = get_data(key,value,res)\n",
    "\n",
    "    # Use the jsonify function from Flask to convert our list of\n",
    "    # Python dictionaries to the JSON format.\n",
    "    return jsonify(res)\n",
    "\n",
    "app.run()"
   ]
  },
  {
   "cell_type": "markdown",
   "id": "3f233ece-5867-4880-a325-d198f567a5b0",
   "metadata": {},
   "source": [
    "Copyright © 2022 IBM Corporation. This notebook and its source code are released under the terms of the [MIT License](https://cognitiveclass.ai/mit-license?utm_medium=Exinfluencer&utm_source=Exinfluencer&utm_content=000026UJ&utm_term=10006555&utm_id=NA-SkillsNetwork-Channel-SkillsNetworkCoursesIBMDA0321ENSkillsNetwork21426264-2021-01-01&cm_mmc=Email_Newsletter-\\_-Developer_Ed%2BTech-\\_-WW_WW-\\_-SkillsNetwork-Courses-IBM-DA0321EN-SkillsNetwork-21426264&cm_mmca1=000026UJ&cm_mmca2=10006555&cm_mmca3=M12345678&cvosrc=email.Newsletter.M12345678&cvo_campaign=000026UJ).\n"
   ]
  },
  {
   "cell_type": "code",
   "execution_count": null,
   "id": "99735e5a-c0d3-422b-888c-08b1688f6955",
   "metadata": {},
   "outputs": [],
   "source": []
  }
 ],
 "metadata": {
  "kernelspec": {
   "display_name": "Python [conda env:cvpr] *",
   "language": "python",
   "name": "conda-env-cvpr-py"
  },
  "language_info": {
   "codemirror_mode": {
    "name": "ipython",
    "version": 3
   },
   "file_extension": ".py",
   "mimetype": "text/x-python",
   "name": "python",
   "nbconvert_exporter": "python",
   "pygments_lexer": "ipython3",
   "version": "3.8.13"
  }
 },
 "nbformat": 4,
 "nbformat_minor": 5
}
